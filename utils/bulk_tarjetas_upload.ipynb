{
 "cells": [
  {
   "cell_type": "code",
   "execution_count": 5,
   "metadata": {},
   "outputs": [
    {
     "name": "stdout",
     "output_type": "stream",
     "text": [
      "Tarjeta alexandra-gornago-o2zFDffQnDM-unsplash.jpgceline-druguet-U1cJXwFsZv0-unsplash.jpg added successfully.\n",
      "Tarjeta danie-franco-7XqL_DVuBMw-unsplash.jpg added successfully.\n",
      "Tarjeta elena-joland--4nhJnfF7W0-unsplash.jpg added successfully.\n",
      "Tarjeta ellie-cooper--a_M4o2n-0U-unsplash.jpg added successfully.\n",
      "Tarjeta evelina-friman-hw_sKmjb0ns-unsplash.jpg added successfully.\n",
      "Tarjeta in-lieu-in-view-photography-MUCQZE74NME-unsplash.jpg added successfully.\n",
      "Tarjeta jazmin-quaynor-8ioenvmof-I-unsplash.jpg added successfully.\n",
      "Tarjeta jeremy-wong-weddings-464ps_nOflw-unsplash.jpg added successfully.\n",
      "Tarjeta jeremy-wong-weddings-K8KiCHh4WU4-unsplash.jpg added successfully.\n",
      "Tarjeta jeremy-wong-weddings-K41SGnGKxVk-unsplash.jpg added successfully.\n",
      "Tarjeta jonathan-borba-i2gom1zDv5Y-unsplash.jpg added successfully.\n",
      "Tarjeta julia-solonina-UTMIln3hT9o-unsplash.jpg added successfully.\n",
      "Tarjeta nathan-dumlao-5BB_atDT4oA-unsplash.jpg added successfully.\n",
      "Tarjeta nathan-walker-cVRgwcudqDU-unsplash.jpg added successfully.\n",
      "Tarjeta nick-karvounis-UA3zSV9ze8U-unsplash.jpg added successfully.\n",
      "Tarjeta petr-ovralov-jNpttMRlb_Y-unsplash.jpg added successfully.\n",
      "Tarjeta photos-by-lanty-O38Id_cyV4M-unsplash.jpg added successfully.\n",
      "Tarjeta samantha-gades-N1CZNuM_Fd8-unsplash.jpg added successfully.\n",
      "Tarjeta shardayyy-photography-fJzmPe-a0eU-unsplash.jpg added successfully.\n"
     ]
    }
   ],
   "source": [
    "import requests\n",
    "\n",
    "# List of image paths\n",
    "image_paths = [\n",
    "    'alexandra-gornago-o2zFDffQnDM-unsplash.jpg'\n",
    "    'celine-druguet-U1cJXwFsZv0-unsplash.jpg',\n",
    "    'danie-franco-7XqL_DVuBMw-unsplash.jpg',\n",
    "    'elena-joland--4nhJnfF7W0-unsplash.jpg',\n",
    "    'ellie-cooper--a_M4o2n-0U-unsplash.jpg',\n",
    "    'evelina-friman-hw_sKmjb0ns-unsplash.jpg',\n",
    "    'in-lieu-in-view-photography-MUCQZE74NME-unsplash.jpg',\n",
    "    'jazmin-quaynor-8ioenvmof-I-unsplash.jpg',\n",
    "    'jeremy-wong-weddings-464ps_nOflw-unsplash.jpg',\n",
    "    'jeremy-wong-weddings-K8KiCHh4WU4-unsplash.jpg',\n",
    "    'jeremy-wong-weddings-K41SGnGKxVk-unsplash.jpg',\n",
    "    'jonathan-borba-i2gom1zDv5Y-unsplash.jpg',\n",
    "    'julia-solonina-UTMIln3hT9o-unsplash.jpg',\n",
    "    'nathan-dumlao-5BB_atDT4oA-unsplash.jpg',\n",
    "    'nathan-walker-cVRgwcudqDU-unsplash.jpg',\n",
    "    'nick-karvounis-UA3zSV9ze8U-unsplash.jpg',\n",
    "    'petr-ovralov-jNpttMRlb_Y-unsplash.jpg',\n",
    "    'photos-by-lanty-O38Id_cyV4M-unsplash.jpg',\n",
    "    'samantha-gades-N1CZNuM_Fd8-unsplash.jpg',\n",
    "    'shardayyy-photography-fJzmPe-a0eU-unsplash.jpg'\n",
    "]\n",
    "\n",
    "# GitHub base URL for accessing raw images\n",
    "github_base_url = \"https://raw.githubusercontent.com/FSDSTR1023/turquesa-imagenes/master/tarjetas/\"\n",
    "\n",
    "# API endpoint for creating tarjetas\n",
    "api_endpoint = \"http://localhost:3000/tarjeta/\"\n",
    "\n",
    "for path in image_paths:\n",
    "    filename = path\n",
    "    # Construct the URL to the image\n",
    "    image_url = github_base_url + filename\n",
    "    # Construct the payload\n",
    "    payload = {\n",
    "        \"id_usuario\": \"\",  # Always void\n",
    "        \"nombre\": filename.rsplit('.', 1)[0],  # Use the file name without the extension\n",
    "        \"categoria\": \"boda\",  # Always \"boda\"\n",
    "        \"imagen_principal\": image_url,  # Construct the URL to the image\n",
    "        \"datos_personalizados\": {}  # Leave void\n",
    "    }\n",
    "    \n",
    "    # Send the POST request to the API with the JSON payload\n",
    "    response = requests.post(api_endpoint, json=payload)\n",
    "    \n",
    "    # Check if the request was successful\n",
    "    if response.status_code == 200 or response.status_code == 201:\n",
    "        print(f\"Tarjeta {filename} added successfully.\")\n",
    "    else:\n",
    "        print(f\"Failed to add tarjeta {filename}. Response code: {response.status_code}, Message: {response.text}\")\n"
   ]
  }
 ],
 "metadata": {
  "kernelspec": {
   "display_name": "Python 3",
   "language": "python",
   "name": "python3"
  },
  "language_info": {
   "codemirror_mode": {
    "name": "ipython",
    "version": 3
   },
   "file_extension": ".py",
   "mimetype": "text/x-python",
   "name": "python",
   "nbconvert_exporter": "python",
   "pygments_lexer": "ipython3",
   "version": "3.11.0"
  }
 },
 "nbformat": 4,
 "nbformat_minor": 2
}
